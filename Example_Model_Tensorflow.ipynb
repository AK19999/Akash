{
 "cells": [
  {
   "cell_type": "markdown",
   "metadata": {
    "colab_type": "text",
    "id": "gpzj90oD__lN"
   },
   "source": [
    "# TensorFlow House Price Prediction\n",
    "\n",
    "This is a simple TensorFlow based notebook that applies the steps of the machine learning workflow to create, train, and test a model that will predict house prices.\n",
    "\n",
    "The notebook:\n",
    "\n",
    "*  Uses the steps of the machine learning workflow discussed in the course\n",
    "*  Illustrates how TensorFlow makes it easier to implement a machine learning solution\n",
    "*  Describes what is happening in various processing steps\n",
    "\n"
   ]
  },
  {
   "cell_type": "markdown",
   "metadata": {
    "colab_type": "text",
    "id": "HMyAUbOqOGgU"
   },
   "source": [
    "## Load correct version of TensorFlow\n",
    "Before we use TensorFlow we must load the correct version.  We want version 2.x."
   ]
  },
  {
   "cell_type": "code",
   "execution_count": 1,
   "metadata": {
    "colab": {},
    "colab_type": "code",
    "id": "uwTnmk_IPQbz"
   },
   "outputs": [],
   "source": [
    "# Install TensorFlow using Colab's tensorflow_version command\n",
    "try:\n",
    "  # %tensorflow_version only exists in Colab.\n",
    "  %tensorflow_version 2.x\n",
    "except Exception:\n",
    "  pass"
   ]
  },
  {
   "cell_type": "markdown",
   "metadata": {
    "colab_type": "text",
    "id": "SaSlAAqoIiv6"
   },
   "source": [
    "## Import Libraries\n",
    "\n",
    "We import TensorFlow, Numpy, and Matplotlib libraries.  \n",
    "\n",
    "Numpy is a powerful n-dimensional array library that\n",
    "allows us to easily create and manipulate arrays of data, and more!\n",
    "\n",
    "Numpy also allows us to convert TensorFlow's native data structures,\n",
    "to Python native data types.\n",
    "\n",
    "Matplotlib is a graphics plot library"
   ]
  },
  {
   "cell_type": "code",
   "execution_count": 2,
   "metadata": {
    "colab": {},
    "colab_type": "code",
    "id": "qVJKEAqsIXEi"
   },
   "outputs": [],
   "source": [
    "# Import libraries\n",
    "import tensorflow as tf\n",
    "import numpy as np\n",
    "import matplotlib.pyplot as plt"
   ]
  },
  {
   "cell_type": "code",
   "execution_count": 3,
   "metadata": {
    "colab": {},
    "colab_type": "code",
    "id": "_vjZGJOwSxmR"
   },
   "outputs": [
    {
     "name": "stdout",
     "output_type": "stream",
     "text": [
      "TensorFlow version: 2.12.0\n"
     ]
    }
   ],
   "source": [
    "# Check TensorFlow version\n",
    "print(\"TensorFlow version:\", tf.__version__)"
   ]
  },
  {
   "cell_type": "markdown",
   "metadata": {
    "colab_type": "text",
    "id": "MHIiwqsORnEb"
   },
   "source": [
    "## Problem Statement\n",
    "\n",
    "Using example data, develop a model that predicts house prices based on the size of a house.\n"
   ]
  },
  {
   "cell_type": "markdown",
   "metadata": {
    "colab_type": "text",
    "id": "I7iNMKHlJa-F"
   },
   "source": [
    "## Get Data\n",
    "\n",
    "In this example we will be using a truncated version of the Ames dataset that only contains information on homes sold in May 2010.\n",
    "\n",
    "### About the Ames dataset\n",
    "\n",
    "The Ames dataset is a widely available dataset that has become one of the standard datasets used when\n",
    "predicting home prices based on features of the home. It is based on the great work of Dean De Cock.  His rational\n",
    "and insight into this dataset can be found at http://jse.amstat.org/v19n3/decock.pdf.\n",
    "\n",
    "\n",
    "### Getting the truncated dataset we use\n",
    "This dataset can be found with the exercise files for this course.  The filename is **AmesHousing-05-2010.csv** .\n",
    "\n",
    "Before you run the code below, ensure you have downloaded the file to your computer.  \n",
    "\n",
    "And when prompted, browse to the file's location on your computer and upload the file.\n",
    "\n",
    "*Warning: The file upload function will only show the file selection dialog for 30 seconds.  After that time it will close and cause an error because a file was not specified.  This timeout prevents the file dialog from blocking events in Colab.  If you experience this timeout select the dataset file sooner.  It may help to move the dataset file to an easier to specify location such as your desktop.*\n",
    "\n"
   ]
  },
  {
   "cell_type": "code",
   "execution_count": 0,
   "metadata": {
    "colab": {},
    "colab_type": "code",
    "id": "UtsmZTmC6qcS"
   },
   "outputs": [],
   "source": [
    "# You need to upload the file, AmesHousing-05-2001.csv provided with this course\n",
    "from google.colab import files\n",
    "\n",
    "# only load the single file\n",
    "uploaded = files.upload()\n",
    "# csv_housefile contains the name of the first, and only file uploaded\n",
    "csv_housefile = next(iter(uploaded.keys()))\n",
    "\n",
    "print('User uploaded file \"{name}\" with length {length} bytes'.format(\n",
    "      name=csv_housefile, length=len(uploaded[csv_housefile])))\n"
   ]
  },
  {
   "cell_type": "markdown",
   "metadata": {
    "colab_type": "text",
    "id": "-hiXAp_v6urP"
   },
   "source": [
    "### Load the data into a pandas dataframe\n",
    "\n",
    "Pandas let's us easily review and manipulate the data.  If you are new to pandas, see https://pandas.pydata.org/ and the pandas 10 minute intro  http://pandas.pydata.org/pandas-docs/stable/getting_started/10min.html to understand how pandas, and pandas dataframes makes working with tabular data in Python easy."
   ]
  },
  {
   "cell_type": "code",
   "execution_count": 0,
   "metadata": {
    "colab": {},
    "colab_type": "code",
    "id": "zveOHSXBItTU"
   },
   "outputs": [],
   "source": [
    "import pandas as pd\n",
    "\n",
    "# load the housing data into a pandas dataframe for easy viewing and manipulation\n",
    "df_housing = pd.read_csv(csv_housefile)"
   ]
  },
  {
   "cell_type": "markdown",
   "metadata": {
    "colab_type": "text",
    "id": "QC9Ygn0jynyW"
   },
   "source": [
    "### Visualize the House Price data\n",
    "\n",
    "We use panda's  head method to look at the first few rows of data.  This will give us an understanding of the data we are working with.\n"
   ]
  },
  {
   "cell_type": "code",
   "execution_count": 0,
   "metadata": {
    "colab": {},
    "colab_type": "code",
    "id": "YtdGnno4zBeT"
   },
   "outputs": [],
   "source": [
    "# Visualize the dataset\n",
    " \n",
    "# turn on option to display all columns, otherwise some columns may be hidden\n",
    "pd.set_option('display.max_columns', None)  \n",
    "# print the column names and first 5 rows of data\n",
    "df_housing.head(5)"
   ]
  },
  {
   "cell_type": "markdown",
   "metadata": {
    "colab_type": "text",
    "id": "H8urfea9zAhH"
   },
   "source": [
    "Lots of feature columns.  From documentation of previous work with this data we can account for most of the difference in price (SalePrice) based on the size of the house. \n",
    "\n",
    "Looking through the columns we see the following features contains square feet ('SF'): BsmtFin SF 1, BsmtFin SF 2, Bsmt Unf SF, Total Bsmt SF,  1st Flr SF, 2nd Flr SF, Low Qual Fin SF. \n",
    "\n",
    "A little more checking of the data and we see in the data that there are summary columns for the basement square footage and the above basement square footage.  Specifically the feature columns Total Bsmt SF and Gr Liv Area sum the space as follows:\n",
    "\n",
    "\n",
    "\n",
    ">  Total Bsmt SF = BsmtFin SF 1 +  BsmtFin SF 2 + Bsmt Unf SF \n",
    "\n",
    "> Gr Liv Area =  1st Flr SF +  2nd Flr SF\n",
    "\n",
    "But, there is no feature for the total space in the house which is the sum of Basement and Upper floors or (Total Bsmt SF + Gr Liv Area ).  So let's add a new feature column containing this value called 'Total SF' to the dataset.\n",
    "\n",
    "But, before we proceed, let's see if the feature columns we are dependent upon contain missing values that will effect our results.  If so, we can remove the rows with missing columns or determine a way of imputing (updating the values) the missing columns.\n"
   ]
  },
  {
   "cell_type": "code",
   "execution_count": 0,
   "metadata": {
    "colab": {},
    "colab_type": "code",
    "id": "9gc0jzZYvLsl"
   },
   "outputs": [],
   "source": [
    " df_housing[['Total Bsmt SF', 'Gr Liv Area']].isnull().values.any()"
   ]
  },
  {
   "cell_type": "markdown",
   "metadata": {
    "colab_type": "text",
    "id": "oDHSGCWCw6KJ"
   },
   "source": [
    "No missing values, so no additional work is required.  So we can add the new column Total SF."
   ]
  },
  {
   "cell_type": "code",
   "execution_count": 0,
   "metadata": {
    "colab": {},
    "colab_type": "code",
    "id": "Lh3dHm0U-aY9"
   },
   "outputs": [],
   "source": [
    "# Add new feature column Total SF = Total Bsmt SF + Gr Liv Area\n",
    "df_housing['Total SF'] = df_housing['Total Bsmt SF'] + df_housing['Gr Liv Area']\n"
   ]
  },
  {
   "cell_type": "markdown",
   "metadata": {
    "colab_type": "text",
    "id": "I8WXLZlB3l0N"
   },
   "source": [
    "And we can check that the numbers add and see associated sale price "
   ]
  },
  {
   "cell_type": "code",
   "execution_count": 0,
   "metadata": {
    "colab": {},
    "colab_type": "code",
    "id": "l4LQHNxWDBRc"
   },
   "outputs": [],
   "source": [
    "# see the basement and living area, total sf, and price columns\n",
    "print(df_housing[['Total Bsmt SF', 'Gr Liv Area', 'Total SF', 'SalePrice']].head(5) )"
   ]
  },
  {
   "cell_type": "markdown",
   "metadata": {
    "colab_type": "text",
    "id": "aORObOZrKIMA"
   },
   "source": [
    "### Visualize the data.  \n",
    "\n",
    "We visualize the data to give us some idea of the relationships between the various features.  To do that we create a  function to plot the data.\n",
    " \n",
    " \n",
    " \n"
   ]
  },
  {
   "cell_type": "code",
   "execution_count": 0,
   "metadata": {
    "colab": {},
    "colab_type": "code",
    "id": "E7hTDDs6qw0R"
   },
   "outputs": [],
   "source": [
    "# This function visualizes our data and optionally a learned line\n",
    "def visualize_data(x_vals, y_vals,\n",
    "                   addn_x_vals=None, addn_y_vals=None, add_addn_reg_line=False):\n",
    "  \n",
    "  f, ax = plt.subplots(figsize=(8,8))\n",
    "  plt.plot(x_vals, y_vals, 'ro')   # red dot for each data point\n",
    "  # Optionally plot another set of data points in a different color and symbol\n",
    "  if (addn_x_vals is not None):\n",
    "    plt.plot(addn_x_vals, addn_y_vals, 'g^') # green triangles for additional data points\n",
    "    # Optionally, plot a regression line.\n",
    "    if (add_addn_reg_line):\n",
    "      x_min_index = addn_x_vals.argmin()\n",
    "      x_max_index = addn_x_vals.argmax()\n",
    "      print(x_min_index,[addn_x_vals[x_min_index],addn_y_vals[x_min_index]] ) \n",
    "      print(x_max_index,[addn_x_vals[x_max_index],addn_y_vals[x_max_index]] ) \n",
    "      plt.plot([addn_x_vals[x_min_index],addn_y_vals[x_min_index]], \n",
    "               [addn_x_vals[x_max_index],addn_y_vals[x_max_index]], \n",
    "               'b-')  # draw a blue regression line\n",
    "    \n",
    "  plt.tick_params(axis='both', which='major', labelsize=14)\n",
    "  \n",
    "  plt.show()  # now plot the line showing the data and the optional line"
   ]
  },
  {
   "cell_type": "markdown",
   "metadata": {
    "colab_type": "text",
    "id": "7d887fwIbFP1"
   },
   "source": [
    "### Visualizing Total SF and Price\n",
    "\n",
    "Using the visualize_data function we can see the relationship between Total Square Feet (Total SF) and Price."
   ]
  },
  {
   "cell_type": "code",
   "execution_count": 0,
   "metadata": {
    "colab": {},
    "colab_type": "code",
    "id": "9PyYXnSZ9v9R"
   },
   "outputs": [],
   "source": [
    "# Plot Total SF vs. Price\n",
    "visualize_data(df_housing['Total SF'], df_housing['SalePrice'])\n",
    "\n"
   ]
  },
  {
   "cell_type": "markdown",
   "metadata": {
    "colab_type": "text",
    "id": "eJjuAi3sb76r"
   },
   "source": [
    "### What does the visualization tell us?\n",
    "\n",
    "There seems to be a **linear** relationship between the size of the house (as shown in Total SF) and Price.  \n",
    "\n",
    "This suggests that we should perform Linear Regression. Where the relationship in the data is:\n",
    " y = mx + b.  \n",
    " Or in our case, Price = m * Total SF + b\n",
    " \n",
    "With respect to defining the appropriate equation, we can see the difference between traditional programming and Machine Learning as:\n",
    "\n",
    "* In tradition programming **we define what the equation** is through structures such as conditional statements\n",
    "\n",
    "* In Machine Learning, our model **learns from the data** what the appropriate equation is."
   ]
  },
  {
   "cell_type": "markdown",
   "metadata": {
    "colab_type": "text",
    "id": "kWm_EBhwfTvX"
   },
   "source": [
    "## Prepare Data\n",
    "\n",
    "If values are on very different scales it will be difficult for the model to determine the relationships between features.  With our data, Square Footage (SF) ranges from 800-4200, and Prices range from 80,000 to 400,0000.  This means there is a nearly 100 times difference in scale.  When we normalize we will reduce both qualtities to the same scale while preserving the differences between prices and sizes of homes.  This will help our model learn the relationship between price and size."
   ]
  },
  {
   "cell_type": "code",
   "execution_count": 0,
   "metadata": {
    "colab": {},
    "colab_type": "code",
    "id": "5n-zGuMN6np6"
   },
   "outputs": [],
   "source": [
    "# Scale data so SF and Sale Price are on similar scales with values \n",
    "#  from 0.0 to 1.0\n",
    "\n",
    "from sklearn.preprocessing import MinMaxScaler\n",
    "\n",
    "sf_scaler = MinMaxScaler()\n",
    "sf_scaled = sf_scaler.fit_transform(df_housing['Total SF'].values.reshape(-1,1).astype(np.float64))\n",
    "    \n",
    "price_scaler = MinMaxScaler()\n",
    "price_scaled = price_scaler.fit_transform(df_housing['SalePrice'].values.reshape(-1,1).astype(np.float64))"
   ]
  },
  {
   "cell_type": "markdown",
   "metadata": {
    "colab_type": "text",
    "id": "2VSO8dVIW5Fb"
   },
   "source": [
    "## Create Model\n",
    "\n",
    "Here we create a model to learn from our data.  Our data looks linearly related, so we can use a straight line\n",
    "to fit our data.  So we are going to create a model that is based on the equation of a straight line.\n",
    "\n",
    "From our training data we will learn that once we can define this line's parameters we can use it's equation to predict the value of any future data.\n",
    "\n",
    "We use TensorFlow's Keras library to make the process easy.\n",
    "\n",
    "We create a sequential model where the output of one layer becomes the input of the next layer.\n",
    "\n",
    "This model is a simple Neural Network that implements y = wx + bias, where **w is a weight** and **bias is an offset**.\n",
    "\n",
    "*You may recognize from Algebra or Geometry that y = wx + bias is the equation of straight line, where w is the slope and bias is the offset.  (See https://en.wikipedia.org/wiki/Line_(geometry) for a description.)*\n",
    "\n",
    "Therefore the goal is to use our data to train the model and learn the best values for w and bias.\n"
   ]
  },
  {
   "cell_type": "markdown",
   "metadata": {
    "colab_type": "text",
    "id": "o30MyqTYepiV"
   },
   "source": [
    "### Our Model\n",
    "\n",
    "We create our linear model using TensorFlow's Keras library.   Using Keras makes it easy for us to create, train, and evaluate our model.\n",
    "\n"
   ]
  },
  {
   "cell_type": "code",
   "execution_count": 0,
   "metadata": {
    "colab": {},
    "colab_type": "code",
    "id": "SgcsUBmf_guO"
   },
   "outputs": [],
   "source": [
    "# Create model using the TensorFlow Keras library\n",
    "model = tf.keras.Sequential()\n",
    "model.add(tf.keras.layers.Dense(units=1, activation='linear', input_shape=(1,),\n",
    "                                kernel_initializer='random_uniform',\n",
    "                                bias_initializer='zeros'))\n"
   ]
  },
  {
   "cell_type": "markdown",
   "metadata": {
    "colab_type": "text",
    "id": "LH040S8DdMTS"
   },
   "source": [
    "### Compile the model\n",
    "\n",
    "The model is now defined, but is not trained, or even ready to be trained.\n",
    "\n",
    "We will train the model by passing training data throught it and adjusting the weight and bias to reduce loss (error).  To perform these tasks we need a method for \n",
    "*  measuring loss and \n",
    "*  optimizing the values of the weight and bias to minimize this loss. \n",
    "\n",
    "There are many ways of measuring loss and optimizing the values.  We are going to use **Mean-Squared Error** ('mean_squared_error') to measure loss, and the process of **Stochasitic Gradient Descent** ('sgd') to find the optimal weight and bias to minimize the loss. *Note: We use the variant of sgd called mini-batch gradient descent.  And set the batch size in the fit method below.*\n",
    "\n",
    "We set these parameters for the model with the **compile** statement. "
   ]
  },
  {
   "cell_type": "code",
   "execution_count": 0,
   "metadata": {
    "colab": {},
    "colab_type": "code",
    "id": "KMYudNJpY9dY"
   },
   "outputs": [],
   "source": [
    "# Compile model\n",
    "optimizer = \"sgd\"\n",
    "model.compile(loss='mean_squared_error', optimizer=optimizer )\n"
   ]
  },
  {
   "cell_type": "markdown",
   "metadata": {
    "colab_type": "text",
    "id": "O8a2y8xinVmf"
   },
   "source": [
    "## Train the Model\n",
    "\n",
    "Once the model has been defined and compiled we can train the model.  We do this with training data.  \n",
    "\n",
    "We want to split our prepared dataset into 2 datasets.  One dataset will be used for training, and the other dataset will used for testing.  **We never used testing data for training or training data for testing.**"
   ]
  },
  {
   "cell_type": "code",
   "execution_count": 0,
   "metadata": {
    "colab": {},
    "colab_type": "code",
    "id": "EeE7HxU_l0MP"
   },
   "outputs": [],
   "source": [
    "# Split the dataset into training dataset - 70%, Testing dataset - 30%\n",
    "# we do this using the sklearn train_test_split method\n",
    "from sklearn.model_selection import train_test_split\n",
    "\n",
    "sf_train_scaled, sf_test_scaled, price_train_scaled, price_test_scaled = train_test_split(sf_scaled, \n",
    "                                                    price_scaled, \n",
    "                                                    test_size=0.3, random_state=42)"
   ]
  },
  {
   "cell_type": "markdown",
   "metadata": {
    "colab_type": "text",
    "id": "RJPTS2h1yGD3"
   },
   "source": [
    "We pass the training data through the model multiple times.  On each pass, the loss function (that we defined in the model compile) will be used to calculate loss.  And the optimizer will be used to make adjustments to the weights and bias (just called weights from here on) to minimize this error.  \n",
    "\n",
    "We repeat this process of calculating the loss with the current weights and updating the weights to minimize loss for the specified number of **epochs**.  *We should see the loss decrease over time.*\n",
    "\n",
    "We can set the *verbose* flag to tell Keras how much information to show during the training process, 0 is none, 1 and 2 show more in-progress information."
   ]
  },
  {
   "cell_type": "code",
   "execution_count": 0,
   "metadata": {
    "colab": {},
    "colab_type": "code",
    "id": "HOCRKtgMnSLk"
   },
   "outputs": [],
   "source": [
    "\n",
    "# Train model using data\n",
    "initial_epochs = 8\n",
    "batch_size = 10\n",
    "train_hist = model.fit(sf_train_scaled, price_train_scaled, \n",
    "                       epochs=initial_epochs, batch_size=batch_size, verbose=1)\n",
    "\n",
    "# Is 8 epochs enough??? Maybe/Maybe not"
   ]
  },
  {
   "cell_type": "markdown",
   "metadata": {
    "colab_type": "text",
    "id": "NXB_5zlkvEpt"
   },
   "source": [
    "### Visually Confirm Model Training\n",
    "\n",
    "Our model learned the best weight and bias for our training data that it could through the defined number of epochs.  Let's see if a line drawn with the learned weight and bias looks reasonable."
   ]
  },
  {
   "cell_type": "code",
   "execution_count": 0,
   "metadata": {
    "colab": {},
    "colab_type": "code",
    "id": "1KPJ8zLCJYw1"
   },
   "outputs": [],
   "source": [
    "\n",
    "#  predict the price with our trained model\n",
    "price_predicted_scaled =  model.predict(sf_train_scaled)\n",
    "visualize_data(sf_scaler.inverse_transform(sf_train_scaled), price_scaler.inverse_transform(price_train_scaled),\n",
    "               sf_scaler.inverse_transform(sf_train_scaled), price_scaler.inverse_transform(price_predicted_scaled),\n",
    "               add_addn_reg_line=False)\n",
    "               \n",
    "# If line looks bad, what do we do?"
   ]
  },
  {
   "cell_type": "markdown",
   "metadata": {
    "colab_type": "text",
    "id": "vP7E7zNb71zw"
   },
   "source": [
    "### Evaluate Training\n",
    "\n",
    "\n",
    "Our trained model does not looks too good !!!\n",
    "\n",
    "What can we do?  \n",
    "\n",
    "Should we change model architecture?  Does linear look incorrect?  \n",
    "\n",
    "> NO\n",
    "\n",
    "\n",
    "What does loss look like?\n"
   ]
  },
  {
   "cell_type": "code",
   "execution_count": 0,
   "metadata": {
    "colab": {},
    "colab_type": "code",
    "id": "bVoztVaenFsr"
   },
   "outputs": [],
   "source": [
    "def plot_loss(hist):\n",
    "  # plot the loss\n",
    "  plt.title('Loss History')\n",
    "  plt.plot(hist.history['loss'])\n",
    "  plt.ylabel('loss')\n",
    "  plt.xlabel('epoch')\n",
    "  plt.show()\n",
    "\n",
    "print(type(train_hist))\n",
    "plot_loss(train_hist)"
   ]
  },
  {
   "cell_type": "markdown",
   "metadata": {
    "colab_type": "text",
    "id": "bWEO8ONjm9gm"
   },
   "source": [
    "\n",
    "\n",
    "> LOSS STILL LOOKS HIGH.  BUT IS DECREASING.\n",
    "\n",
    "\n",
    "\n",
    "Perhaps we have not converged to the lowest loss.  What can we do????  \n",
    "\n",
    "Train with more data?  \n",
    "\n",
    "> NO.  WE HAVE ALL THE DATA\n",
    "\n",
    "Train for more epochs and check loss to ensure values have converged?\n",
    " > YES!!!"
   ]
  },
  {
   "cell_type": "markdown",
   "metadata": {
    "colab_type": "text",
    "id": "Nez9pMAyhNll"
   },
   "source": [
    "### Training more epochs\n",
    "\n",
    "The model is partially trained but the results are not great.  Let's go back and train the model some more. \n",
    "\n",
    "The question is how much more?  \n",
    "\n",
    "We want to ensure the model is converged to a range of loss values.   So what we will see in the training output is the loss value starts to stay in a specific range .   It may go up or down a little, but there should be a stable range."
   ]
  },
  {
   "cell_type": "code",
   "execution_count": 0,
   "metadata": {
    "colab": {},
    "colab_type": "code",
    "id": "h2azhJj0hd7t"
   },
   "outputs": [],
   "source": [
    "# Train model using data.  This time, train for additional epochs\n",
    "# Also capture the changes over time in the history variable, train_hist_addn so we \n",
    "#   can see if loss is converging\n",
    "addn_epochs = 1200\n",
    "train_hist_addn =model.fit(sf_train_scaled, price_train_scaled,  \n",
    "                     epochs=addn_epochs, verbose=1)"
   ]
  },
  {
   "cell_type": "markdown",
   "metadata": {
    "colab_type": "text",
    "id": "KRhVDSCDj_pu"
   },
   "source": [
    "Plot the loss history values to see if our model converged.\n",
    "\n",
    "Because a model can have a history of many  different metrics over time, there is a history object which has a keys dictionary of \n",
    "metrics whose values were stored on each epoch. By plotting the values for the 'loss' key we can answer:\n",
    "\n",
    "\n",
    "1.   Did the loss converge?\n",
    "2.   How many epochs were required for the loss to converge?\n",
    "\n"
   ]
  },
  {
   "cell_type": "code",
   "execution_count": 0,
   "metadata": {
    "colab": {},
    "colab_type": "code",
    "id": "OEXR-tQpjmJw"
   },
   "outputs": [],
   "source": [
    "# add the addition epochs to the  training history\n",
    "train_hist.history['loss'].extend(train_hist_addn.history['loss'])   \n",
    "plot_loss(train_hist)"
   ]
  },
  {
   "cell_type": "markdown",
   "metadata": {
    "colab_type": "text",
    "id": "XoTv9B0Inx19"
   },
   "source": [
    "### Visually Confirm Model after Additional Training\n",
    "\n",
    "As the  plot showed, the model's loss converged by 1000 epochs.  So the model should be trained to allow us to make accurate predictions.  \n",
    "\n",
    "Let's again plot the predicted price for each size.  And see if a line drawn with the learned weight and bias looks reasonable.\n"
   ]
  },
  {
   "cell_type": "code",
   "execution_count": 0,
   "metadata": {
    "colab": {},
    "colab_type": "code",
    "id": "lUntqHjoko-n"
   },
   "outputs": [],
   "source": [
    "# Visualize data and regression line for learned weights\n",
    "price_predicted_scaled =  model.predict(sf_train_scaled)\n",
    "visualize_data(sf_scaler.inverse_transform(sf_train_scaled), \n",
    "               price_scaler.inverse_transform(price_train_scaled),\n",
    "               sf_scaler.inverse_transform(sf_train_scaled), \n",
    "               price_scaler.inverse_transform(price_predicted_scaled),\n",
    "               add_addn_reg_line=False)\n"
   ]
  },
  {
   "cell_type": "markdown",
   "metadata": {
    "colab_type": "text",
    "id": "YrrEbGQOvUrv"
   },
   "source": [
    "**Yes.  The predicted line looks good!!!**"
   ]
  },
  {
   "cell_type": "markdown",
   "metadata": {
    "colab_type": "text",
    "id": "fZmXIWpZXmwe"
   },
   "source": [
    "## Evaluate Trained Model\n",
    "\n",
    "Once we have the model trained, we want to test **with data not used to train the model!!!**\n",
    "\n",
    "The use of data not used in training to test the model is key.  If you use training data our testing results will be overly accurate and will not reflect *real-life* usage of the trained model to make predictions."
   ]
  },
  {
   "cell_type": "code",
   "execution_count": 0,
   "metadata": {
    "colab": {},
    "colab_type": "code",
    "id": "XjV3pUQ4bP2t"
   },
   "outputs": [],
   "source": [
    "# Make a price prediction on data the model has never seen before, i.e. \n",
    "#    the Test data square footage\n",
    "price_test_pred_scaled = model.predict(sf_test_scaled)\n",
    "\n",
    "# calculate the mean squared error for the prediction, lower is better\n",
    "from sklearn.metrics import mean_squared_error\n",
    "print(\"prediction mean squared error:\", \n",
    "          mean_squared_error(price_test_scaled, price_test_pred_scaled ))\n",
    "\n",
    "# Visualize data\n",
    "#    plus the test square footage and predicted price\n",
    "print('\\nGreen triangles are Test square footage with predicted Price')\n",
    "visualize_data(sf_scaler.inverse_transform(sf_test_scaled),\n",
    "               price_scaler.inverse_transform(price_test_scaled),\n",
    "               sf_scaler.inverse_transform(sf_test_scaled), \n",
    "               price_scaler.inverse_transform(price_test_pred_scaled),\n",
    "               add_addn_reg_line=False)\n",
    "print('\\nOur predicted values fit the data well!')"
   ]
  },
  {
   "cell_type": "markdown",
   "metadata": {
    "colab_type": "text",
    "id": "r-otP7n7v4QJ"
   },
   "source": [
    "## What we have learned\n",
    "\n",
    "\n",
    "\n",
    "*   In Machine Learning we often spend considerable effort getting data in a form that our models can learn from the data.\n",
    "* A single neuron model can learn the appropriate slope and offset for the data. \n",
    "*   Building this model was made easier by TensorFlow's implementation of the Keras library.\n",
    "*   But to learn from the data we need to pass the data through the model enough times to get the loss to converge.\n",
    "*   When we do that, the model learns the data's slope and offset more accurately.\n",
    "*  And when we apply these learned values, the predict prices from the test data's square footage are reasonable. \n",
    "\n"
   ]
  },
  {
   "cell_type": "markdown",
   "metadata": {
    "colab_type": "text",
    "id": "bC7-g3yGJCdW"
   },
   "source": [
    "# Fashion-MNIST Neural Network\n",
    "\n",
    "This notebook implements a simple NN consisting of two dense layers, and uses this network to classify Fashion-MNIST images.\n",
    "\n",
    "These Fashion-MNIST images consist of clothing items from these ten classes. (*T-shirt/top, Trouser, Pullover, Dress, Coat, Sandal, Shirt, Sneaker, Bag, Ankle boot)*"
   ]
  },
  {
   "cell_type": "markdown",
   "metadata": {
    "colab_type": "text",
    "id": "tL0ZtKVL6NN4"
   },
   "source": [
    "## Load correct version of TensorFlow\n",
    "\n",
    "Before we use TensorFlow we must load the correct version. We want version 2.x. To do this we execute the Colab commands below. Note that these commands ONLY WORK IN COLAB."
   ]
  },
  {
   "cell_type": "code",
   "execution_count": 0,
   "metadata": {
    "colab": {},
    "colab_type": "code",
    "id": "leSo_zfF6QXV"
   },
   "outputs": [],
   "source": [
    "# Install TensorFlow using Colab's tensorflow_version command\n",
    "try:\n",
    "  # %tensorflow_version only exists in Colab.\n",
    "  %tensorflow_version 2.x\n",
    "except Exception:\n",
    "  pass\n"
   ]
  },
  {
   "cell_type": "markdown",
   "metadata": {
    "colab_type": "text",
    "id": "Sy_y_E9_NFc8"
   },
   "source": [
    "## Import Libraries\n",
    "\n",
    "We import TensorFlow, Numpy, and Matplotlib libraries.  \n",
    "\n",
    "Numpy is a powerful n-dimensional array library that\n",
    "allows us to easily create and manipulate arrays of data, and more!\n",
    "\n",
    "Numpy also allows us to convert TensorFlow's native data structures,\n",
    "to Python native data types.\n",
    "\n",
    "Matplotlib is a graphics plot library"
   ]
  },
  {
   "cell_type": "code",
   "execution_count": 0,
   "metadata": {
    "colab": {},
    "colab_type": "code",
    "id": "RgDK_bJeJpua"
   },
   "outputs": [],
   "source": [
    "# Import libraries\n",
    "import tensorflow as tf\n",
    "import numpy as np\n",
    "import matplotlib.pyplot as plt\n",
    "\n",
    "print(tf.__version__)"
   ]
  },
  {
   "cell_type": "markdown",
   "metadata": {
    "colab_type": "text",
    "id": "EMWdw_E_QPhY"
   },
   "source": [
    "## Problem Statement\n",
    "\n",
    "Using example data, train a model that will correctly predict the class of images of fashion items.\n",
    "\n"
   ]
  },
  {
   "cell_type": "markdown",
   "metadata": {
    "colab_type": "text",
    "id": "N49Xfo21RTr9"
   },
   "source": [
    "## Get Data\n",
    "\n",
    "### About the Fashion-MNIST dataset\n",
    "\n",
    "The Fashion-MNIST dataset is a widely available dataset.  It is documented at the https://github.com/zalandoresearch/fashion-mnist\n",
    "\n",
    "Each image in the dataset is 28 X 28 pixels.  The pixel values are a grayscale with values ranging from 0 to 255.\n",
    "\n",
    "Associated with each image is a number from 0 to 9 specifying the class of the fashion item in the image.  The values for the classes are:\n",
    "\n",
    "| Label | Description |\n",
    "|-------|-------------|\n",
    "| 0     | T-shirt/top |\n",
    "|   1    | Trouser    | \n",
    "|  2     |  Pullover  |\n",
    "|   3    |    Dress    |\n",
    "|    4   |    Coat      |\n",
    "|   5    | Sandal     |\n",
    "|   6    | Shirt         |\n",
    "|    7   |  Sneaker  |\n",
    "|   8    |  Bag          |\n",
    "|  9     | Ankle boot |\n",
    "\n",
    "There are 60,000 Training examples and 10,000 Testing examples. "
   ]
  },
  {
   "cell_type": "markdown",
   "metadata": {
    "colab_type": "text",
    "id": "qswhm4c7nMVl"
   },
   "source": [
    "We will need these class names later in the code.  So we create an list of names we can index by the class label number.  For example, class_names[2] = 'Pullover' and class_names[9] = 'Ankle boot'."
   ]
  },
  {
   "cell_type": "code",
   "execution_count": 0,
   "metadata": {
    "colab": {},
    "colab_type": "code",
    "id": "zK737-ABm7od"
   },
   "outputs": [],
   "source": [
    "# Define class names to display\n",
    "class_names = ['T-shirt/top', 'Trouser', 'Pullover', 'Dress', 'Coat',\n",
    "                  'Sandal', 'Shirt', 'Sneaker', 'Bag', 'Ankle boot']"
   ]
  },
  {
   "cell_type": "markdown",
   "metadata": {
    "colab_type": "text",
    "id": "YcAJeHCCm_TW"
   },
   "source": [
    "Fashion-MNIST is one of the datasets provided with Keras in Tensorflow.  Keras' Dataset library provides a load_data() method that will download the dataset of 60,000 Training images and their corresponding 60,000 labels, and 10,000 Test images and their corresponding 10,000 labels."
   ]
  },
  {
   "cell_type": "code",
   "execution_count": 0,
   "metadata": {
    "colab": {},
    "colab_type": "code",
    "id": "1MMs613GNLe4"
   },
   "outputs": [],
   "source": [
    "fashion_mnist = tf.keras.datasets.fashion_mnist\n",
    "(train_images, train_labels), (test_images, test_labels) = fashion_mnist.load_data()\n"
   ]
  },
  {
   "cell_type": "markdown",
   "metadata": {
    "colab_type": "text",
    "id": "oAcxPIjJkLKZ"
   },
   "source": [
    "### Explore the data\n",
    "\n",
    "Let's look at our data."
   ]
  },
  {
   "cell_type": "code",
   "execution_count": 0,
   "metadata": {
    "colab": {},
    "colab_type": "code",
    "id": "Umx96CdYV-yz"
   },
   "outputs": [],
   "source": [
    "# Print the shape of the data tensors we loaded.  Should be:\n",
    "#   60,000 training 28X28 images and their labels, and 10,000 testing images and their labels\n",
    "print ('Training data:', train_images.shape, train_labels.shape)\n",
    "print ('Test data:', test_images.shape, test_labels.shape)"
   ]
  },
  {
   "cell_type": "markdown",
   "metadata": {
    "colab_type": "text",
    "id": "4Jq_XBs9Xa6C"
   },
   "source": [
    "### Inspect data\n",
    "Each image should be a 28 X 28 image and have a gray scale value of 0-255. Let's display an arbitrary image.\n",
    "\n",
    "You should see:  \n",
    "* A title that specifies the class of the image, whose description is shown on the table above.\n",
    "* The image \n",
    "* The 28 by 28 width and height pixel index \n",
    "* and on the right the grayscale legend associated with the pixel values."
   ]
  },
  {
   "cell_type": "code",
   "execution_count": 0,
   "metadata": {
    "colab": {},
    "colab_type": "code",
    "id": "ni0bRFhjWP1y"
   },
   "outputs": [],
   "source": [
    "def show_training_image(index):\n",
    "  img_label = str(train_labels[index]) + ' (' +  class_names[train_labels[index]] + ')'\n",
    "  plt.figure()\n",
    "  plt.title('Image Label ' + img_label) \n",
    "  plt.imshow(train_images[index], cmap='gray')  # data is grayscale, but displays in color without cmap='gray'\n",
    "  plt.colorbar()\n",
    "  plt.show()\n"
   ]
  },
  {
   "cell_type": "code",
   "execution_count": 0,
   "metadata": {
    "colab": {},
    "colab_type": "code",
    "id": "gJa1Wq_4acop"
   },
   "outputs": [],
   "source": [
    "img_index = 100\n",
    "show_training_image(img_index)"
   ]
  },
  {
   "cell_type": "markdown",
   "metadata": {
    "colab_type": "text",
    "id": "Db_TW6wccWHw"
   },
   "source": [
    "## Prepare Data\n",
    "\n",
    "As usual we need to do some pre-processing of the data.  Here we want to scale the pixels values from 0 to 255 to 0.0 to 1.0.  We scale both the training and testing image values."
   ]
  },
  {
   "cell_type": "code",
   "execution_count": 0,
   "metadata": {
    "colab": {},
    "colab_type": "code",
    "id": "o0vDE9tBYUWx"
   },
   "outputs": [],
   "source": [
    "# scale training and testing image values\n",
    "train_images = train_images / 255.0\n",
    "test_images = test_images / 255.0\n",
    "\n",
    "# Print the image again and notice the values now range from 0 to 1.\n",
    "#   And the image looks the same, just on a different scale. \n",
    "show_training_image(img_index)"
   ]
  },
  {
   "cell_type": "markdown",
   "metadata": {
    "colab_type": "text",
    "id": "ZAAj8oXkeBsY"
   },
   "source": [
    "## Create Model\n",
    "\n",
    "We can now create the model we are going to train with the data.\n",
    "\n",
    "This will be a simple model that:\n",
    "* Flattens the 28 X 28 pixel values into a long stream of 28 by 28 = 784 pixel values - Note this is a Keras layer but is not a neural network layer. Notice the input_shape parameter contains only the shape of a single data element.  There are n data elements each with this same shape. \n",
    "* Passes each pixel value as the input to each of the 128 neurons.  \n",
    "* And finally passes values to the last layer that contains 10 neurons, one for each of the ten classes (t-shirt, pullover, etc).  Each of these 10 neurons uses the Softmax activation function to determine the probability that the image is each class.  The final output from the model is a vector of probabilities that the image is of each class.  Such as :\n",
    "[0.01, 0.05, 0.04, 0.06, 0.50, 0.20, 0.04, 0.00, 0.03, 0.07].  This example vector adds up to 1.0 and shows the probability that the image is class 0 (T-shirt/top) is 0.01 (1%), class 1 (Trousers) is 0.05 (5%), class 2 (Pullover) is 0.04 (4%), ....\n"
   ]
  },
  {
   "cell_type": "code",
   "execution_count": 0,
   "metadata": {
    "colab": {},
    "colab_type": "code",
    "id": "0N2R893MdSZn"
   },
   "outputs": [],
   "source": [
    "\n",
    "model = tf.keras.models.Sequential()      # Create a new sequential model\n",
    "model.add(tf.keras.layers.Flatten(input_shape=(28,28)))    # keras processing layer - no neurons\n",
    "model.add(tf.keras.layers.Dense(128, activation='relu', name='dense-128-relu'))   # 128 neurons connected to pixels\n",
    "model.add(tf.keras.layers.Dense(10, activation='softmax', name='dense-10-softmax')) # determines probability of each of the 10 classes\n"
   ]
  },
  {
   "cell_type": "markdown",
   "metadata": {
    "colab_type": "text",
    "id": "6nu2185LTBq8"
   },
   "source": [
    "### Structure of the model\n",
    "\n",
    "To make it easy for us to visualize the model, Keras models have a summary method.  When we call it we see our model structure.  \n",
    "\n",
    "For completeness we also show the shape of the input data.\n"
   ]
  },
  {
   "cell_type": "code",
   "execution_count": 0,
   "metadata": {
    "colab": {},
    "colab_type": "code",
    "id": "0gXXuAqQURdH"
   },
   "outputs": [],
   "source": [
    "print('Input Shape:', train_images.shape)\n",
    "print()\n",
    "print(model.summary())"
   ]
  },
  {
   "cell_type": "markdown",
   "metadata": {
    "colab_type": "text",
    "id": "BJTmzxCJ3Bpi"
   },
   "source": [
    "### Compile the model\n",
    "\n",
    "Before we can train the model we need to specify how the model will learn from the training data.  To do this we specify:\n",
    "*  loss - how we measure loss (error).  We will use sparse_categorical_crossentropy, which determines the highest predicted class and calculates loss based on how often this is the correct class.\n",
    "*     optimizer - how the model will update the model's weights to reduce the loss.  We use the Adam variant of Mini-batch Gradient Descent.\n",
    "* metrics  - the metrics used for evaluation of training and test.  In this case we use accuracy, that is how often the images are correctly classified.  Higher is better. (1.00 would be perfect (100%), 0,75 = 75%, 0.25 = 25%, ...) \n"
   ]
  },
  {
   "cell_type": "code",
   "execution_count": 0,
   "metadata": {
    "colab": {},
    "colab_type": "code",
    "id": "TW9pZ8kw2Nid"
   },
   "outputs": [],
   "source": [
    "model.compile(optimizer='adam',\n",
    "              loss='sparse_categorical_crossentropy',\n",
    "              metrics=['accuracy'])\n"
   ]
  },
  {
   "cell_type": "markdown",
   "metadata": {
    "colab_type": "text",
    "id": "T7wyz8jh6ZA6"
   },
   "source": [
    "## Train the Model\n",
    "Now that we have our data and model, and have specified how the model will learn from the data we can train it."
   ]
  },
  {
   "cell_type": "code",
   "execution_count": 0,
   "metadata": {
    "colab": {},
    "colab_type": "code",
    "id": "osxdZq5y6qF1"
   },
   "outputs": [],
   "source": [
    "train_hist = model.fit(train_images, train_labels, epochs=40)"
   ]
  },
  {
   "cell_type": "markdown",
   "metadata": {
    "colab_type": "text",
    "id": "R2TLdEfR9tus"
   },
   "source": [
    "Plot the training to makes sure it is converging."
   ]
  },
  {
   "cell_type": "code",
   "execution_count": 0,
   "metadata": {
    "colab": {},
    "colab_type": "code",
    "id": "5hCztJ2o90DS"
   },
   "outputs": [],
   "source": [
    "def plot_acc(hist):\n",
    "  # plot the accuracy\n",
    "  plt.title('Accuracy History')\n",
    "  plt.plot(hist.history['accuracy'])\n",
    "  plt.ylabel('Accuracy')\n",
    "  plt.xlabel('epoch')\n",
    "  plt.show()\n",
    "  \n",
    "def plot_loss(hist):\n",
    "  # plot the loss\n",
    "  plt.title('Loss History')\n",
    "  plt.plot(hist.history['loss'])\n",
    "  plt.ylabel('loss')\n",
    "  plt.xlabel('epoch')\n",
    "  plt.show()\n",
    "\n"
   ]
  },
  {
   "cell_type": "code",
   "execution_count": 0,
   "metadata": {
    "colab": {},
    "colab_type": "code",
    "id": "Zljp5aHqv514"
   },
   "outputs": [],
   "source": [
    "plot_loss(train_hist)\n",
    "plot_acc(train_hist)"
   ]
  },
  {
   "cell_type": "markdown",
   "metadata": {
    "colab_type": "text",
    "id": "0WOXQpc99Ttj"
   },
   "source": [
    "## Evaluate Trained Model\n",
    "\n",
    "Once we have the model trained, we need to see how it will perform on data that it was not trained on, that is, test data. \n",
    "\n",
    "We do this with Keras' evaluation function and the test dataset we retrieved earlier.\n"
   ]
  },
  {
   "cell_type": "code",
   "execution_count": 0,
   "metadata": {
    "colab": {},
    "colab_type": "code",
    "id": "9yEEjOV69uay"
   },
   "outputs": [],
   "source": [
    "test_loss, test_acc = model.evaluate(test_images, test_labels, verbose=0)\n",
    "\n",
    "print('max training accuracy:', max(train_hist.history['accuracy']), '  test accuracy:', test_acc)"
   ]
  },
  {
   "cell_type": "markdown",
   "metadata": {
    "colab_type": "text",
    "id": "nAB01AmFAYw6"
   },
   "source": [
    "## Training Results\n",
    "\n",
    "The model has **about 96% accuracy** on the training data.  And **only 88% accuracy** on testing data on which it was not trained. This is a classic sign that the model overfits the training data.  \n",
    "\n",
    "We need to determine how we can reduce this overfitting and get **good accuracy on both training and test data!**\n",
    "\n",
    "\n"
   ]
  },
  {
   "cell_type": "markdown",
   "metadata": {
    "colab_type": "text",
    "id": "6olDUcpiVkxe"
   },
   "source": [
    "# Monitoring and Improving our Trained Model’s Performance \n",
    "\n",
    "In this section, we want to make changes to improve the performance of our trained model.  By improved performance we mean having the model not overfit the training data and perform poorly on the testing data.\n",
    "\n",
    "There are serveral common techniques to fix this problem.  These include:\n",
    "\n",
    "1.   Reducing Model Complexity - removing neurons or layers\n",
    "2.   Dropout - Randomly removing the contributions from some neurons\n",
    "3.   Early Stopping - Terminating training as early as possible\n",
    "\n",
    "We will try these below.\n",
    "\n"
   ]
  },
  {
   "cell_type": "markdown",
   "metadata": {
    "colab_type": "text",
    "id": "gxM0Nan9ZjmK"
   },
   "source": [
    "## Monitoring performance with TensorBoard\n",
    "\n",
    "We want to ensure we are getting good data to evaluate the performance of our changes.  Fortunately the TensorFlow family include the tool **TensorBoard**.  \n",
    "\n",
    "TensorBoard provides us various ways to monitor the performance of our models including:\n",
    "\n",
    "*    Visualizing metrics such as loss and accuracy\n",
    "*    Comparision of training and evaluation metrics\n",
    "*    Visualizing the model graph (ops and layers)\n",
    "*    Viewing histograms of weights, biases, or other tensors as they change over time\n"
   ]
  },
  {
   "cell_type": "markdown",
   "metadata": {
    "colab_type": "text",
    "id": "rdydWnoYe7gy"
   },
   "source": [
    "TensorBoard can be run inside a Colab notebook, or if you are running your code directly in Python you can invoke TensorBoard from the command line."
   ]
  },
  {
   "cell_type": "code",
   "execution_count": 0,
   "metadata": {
    "colab": {},
    "colab_type": "code",
    "id": "3d1xtI7LjJyf"
   },
   "outputs": [],
   "source": [
    "import datetime"
   ]
  },
  {
   "cell_type": "code",
   "execution_count": 0,
   "metadata": {
    "colab": {},
    "colab_type": "code",
    "id": "m6dqMFnCbkC_"
   },
   "outputs": [],
   "source": [
    "# Load the tensorboard extension\n",
    "% reload_ext tensorboard"
   ]
  },
  {
   "cell_type": "code",
   "execution_count": 0,
   "metadata": {
    "colab": {},
    "colab_type": "code",
    "id": "vaXgSi2yi550"
   },
   "outputs": [],
   "source": [
    "# Clear any logs from previous runs\n",
    "!rm -rf ./logs/ "
   ]
  },
  {
   "cell_type": "code",
   "execution_count": 0,
   "metadata": {
    "colab": {},
    "colab_type": "code",
    "id": "08RQKiAXi_Yz"
   },
   "outputs": [],
   "source": [
    "# Start with a fresh model\n",
    "model = tf.keras.models.Sequential()      # Create a new sequential model\n",
    "model.add(tf.keras.layers.Flatten(input_shape=(28,28)))    # keras processing layer - no neurons\n",
    "model.add(tf.keras.layers.Dense(128, activation='relu', name='dense-128-relu'))   # 128 neurons connected to pixels\n",
    "model.add(tf.keras.layers.Dense(10, activation='softmax', name='dense-10-softmax')) # determine probability of each of the 10 classes"
   ]
  },
  {
   "cell_type": "code",
   "execution_count": 0,
   "metadata": {
    "colab": {},
    "colab_type": "code",
    "id": "Ig5AjqzkjEwM"
   },
   "outputs": [],
   "source": [
    "model.compile(optimizer='adam',\n",
    "              loss='sparse_categorical_crossentropy',\n",
    "              metrics=['accuracy'])\n",
    "\n",
    "\n",
    "log_dir='logs/fit/' + datetime.datetime.now().strftime('%Y%m%d-%H%M%S')\n",
    "tensorboard_callback = tf.keras.callbacks.TensorBoard(log_dir=log_dir, histogram_freq=1)\n",
    "\n",
    "# We add to the fit method the validation/test data.  This will cause the training model \n",
    "# to evaluate itself on the validation/test data on each epoch.  This provides per \n",
    "# epoch data points TensorBoard can plot so we can see the trend.\n",
    "train_hist = model.fit(train_images, train_labels, epochs=40,\n",
    "                       validation_data=(test_images, test_labels), \n",
    "                        callbacks=[tensorboard_callback])\n",
    "\n"
   ]
  },
  {
   "cell_type": "code",
   "execution_count": 0,
   "metadata": {
    "colab": {},
    "colab_type": "code",
    "id": "wx9ATGksjWyV"
   },
   "outputs": [],
   "source": [
    "#!kill 1234   # sometime TensorBoard does not show all data.  If it shows reusing previous instance use kill command listed\n",
    "%tensorboard --logdir logs/fit"
   ]
  },
  {
   "cell_type": "markdown",
   "metadata": {
    "colab_type": "text",
    "id": "v05icTF1mDfB"
   },
   "source": [
    "## Fixing Fashion MNIST "
   ]
  },
  {
   "cell_type": "markdown",
   "metadata": {
    "colab_type": "text",
    "id": "E6zDDPjrFm17"
   },
   "source": [
    "### Reducing Model Complexity\n",
    "\n",
    "In a large model we can consider reducing the number of hidden layers.  But our model only has one hidden layer and we need it.  So the only thing to do is reduce the number of neurons in the hidden layer.  Everthing else is the same \n",
    "as above."
   ]
  },
  {
   "cell_type": "code",
   "execution_count": 0,
   "metadata": {
    "colab": {},
    "colab_type": "code",
    "id": "I1UvcFL9Qmps"
   },
   "outputs": [],
   "source": [
    "# Load the tensorboard extension\n",
    "% reload_ext tensorboard"
   ]
  },
  {
   "cell_type": "code",
   "execution_count": 0,
   "metadata": {
    "colab": {},
    "colab_type": "code",
    "id": "UNwSQKJyQmp-"
   },
   "outputs": [],
   "source": [
    "# Clear any logs from previous runs\n",
    "!rm -rf ./logs/ "
   ]
  },
  {
   "cell_type": "code",
   "execution_count": 0,
   "metadata": {
    "colab": {},
    "colab_type": "code",
    "id": "CCUSydw2QmqJ"
   },
   "outputs": [],
   "source": [
    "\n",
    "model = tf.keras.models.Sequential()      # Create a new sequential model\n",
    "model.add(tf.keras.layers.Flatten(input_shape=(28,28)))    # keras processing layer - no neurons\n",
    "model.add(tf.keras.layers.Dense(64, activation='relu', name='dense-64-relu'))   # 64 neurons connected to pixels\n",
    "#model.add(tf.keras.layers.Dense(128, activation='relu', name='dense-128-relu'))   # 128 neurons connected to pixels\n",
    "model.add(tf.keras.layers.Dense(10, activation='softmax', name='dense-10-softmax')) # determine probability of each of the 10 classes"
   ]
  },
  {
   "cell_type": "code",
   "execution_count": 0,
   "metadata": {
    "colab": {},
    "colab_type": "code",
    "id": "n8yt3SeaQmqN"
   },
   "outputs": [],
   "source": [
    "model.compile(optimizer='adam',\n",
    "              loss='sparse_categorical_crossentropy',\n",
    "              metrics=['accuracy'])\n",
    "\n",
    "\n",
    "log_dir= 'logs/fit/' + datetime.datetime.now().strftime('%Y%m%d-%H%M%S')\n",
    "tensorboard_callback = tf.keras.callbacks.TensorBoard(log_dir=log_dir, histogram_freq=1)\n",
    "\n",
    "# We add to the fit method the validation/test data.  This will cause the training model \n",
    "# to evaluate itself on the validation/test data on each epoch.  This provides per \n",
    "# epoch data points TensorBoard can plot so we can see the trend.\n",
    "train_hist = model.fit(train_images, train_labels, epochs=40,\n",
    "                       validation_data=(test_images, test_labels), \n",
    "                        callbacks=[tensorboard_callback])\n",
    "\n"
   ]
  },
  {
   "cell_type": "markdown",
   "metadata": {
    "colab_type": "text",
    "id": "Ke-rDI6UmGaX"
   },
   "source": [
    "Show the results with TensorBoard"
   ]
  },
  {
   "cell_type": "code",
   "execution_count": 0,
   "metadata": {
    "colab": {},
    "colab_type": "code",
    "id": "hox4ABkzmFWm"
   },
   "outputs": [],
   "source": [
    "#!kill 1234   # sometime TensorBoard does not show all data.  If it shows reusing previous instance use kill command listed\n",
    "%tensorboard --logdir logs/fit"
   ]
  },
  {
   "cell_type": "markdown",
   "metadata": {
    "colab_type": "text",
    "id": "qBwxV4HjFOwT"
   },
   "source": [
    "### Randomly dropout some neurons\n",
    "\n",
    "To randomly shut down the contribution from some neurons, we add a Keras dropout layer.  This layer randomly sets the outputs from the previous layer to 0.  How many outputs are set to 0 is defined by the parameter we pass.  To set 50% of \n",
    "the outputs to 0 pass 0.5.  For 20% pass 0.2.\n",
    "\n",
    "Also, the decision on which connections get dropped is a random selection that \n",
    "changes from epoch to epoch."
   ]
  },
  {
   "cell_type": "code",
   "execution_count": 0,
   "metadata": {
    "colab": {},
    "colab_type": "code",
    "id": "xSMjk8zBpc2A"
   },
   "outputs": [],
   "source": [
    "# Load the tensorboard extension\n",
    "% reload_ext tensorboard"
   ]
  },
  {
   "cell_type": "code",
   "execution_count": 0,
   "metadata": {
    "colab": {},
    "colab_type": "code",
    "id": "3GcFNsSBpc2O"
   },
   "outputs": [],
   "source": [
    "# Clear any logs from previous runs\n",
    "!rm -rf ./logs/ "
   ]
  },
  {
   "cell_type": "code",
   "execution_count": 0,
   "metadata": {
    "colab": {},
    "colab_type": "code",
    "id": "W9SazRfplKGA"
   },
   "outputs": [],
   "source": [
    "model = tf.keras.models.Sequential()      # Create a new sequential model\n",
    "model.add(tf.keras.layers.Flatten(input_shape=(28,28)))    # keras processing layer - no neurons\n",
    "model.add(tf.keras.layers.Dense(128, activation='relu', name='dense-128-relu'))   # 128 neurons connected to pixels\n",
    "model.add(tf.keras.layers.Dropout(0.2))  # dropout 20%\n",
    "model.add(tf.keras.layers.Dense(10, activation='softmax', name='dense-10-softmax')) # determine probability of each of the 10 classes"
   ]
  },
  {
   "cell_type": "code",
   "execution_count": 0,
   "metadata": {
    "colab": {},
    "colab_type": "code",
    "id": "OM9BuhuBlWo0"
   },
   "outputs": [],
   "source": [
    "model.compile(optimizer='adam',\n",
    "              loss='sparse_categorical_crossentropy',\n",
    "              metrics=['accuracy'])"
   ]
  },
  {
   "cell_type": "code",
   "execution_count": 0,
   "metadata": {
    "colab": {},
    "colab_type": "code",
    "id": "jM5sr1YGlcIb"
   },
   "outputs": [],
   "source": [
    "log_dir='logs/fit/' + datetime.datetime.now().strftime('%Y%m%d-%H%M%S')\n",
    "tensorboard_callback = tf.keras.callbacks.TensorBoard(log_dir=log_dir, histogram_freq=1)\n",
    "\n",
    "model.fit(x=train_images, \n",
    "          y=train_labels, \n",
    "          epochs=40, \n",
    "          validation_data=(test_images, test_labels), \n",
    "          callbacks=[tensorboard_callback])\n"
   ]
  },
  {
   "cell_type": "code",
   "execution_count": 0,
   "metadata": {
    "colab": {},
    "colab_type": "code",
    "id": "qlUy6ZlRlOZ8"
   },
   "outputs": [],
   "source": [
    "#!kill 1234   # sometime TensorBoard does not show all data.  If it shows reusing previous instance use kill command listed\n",
    "%tensorboard --logdir logs/fit"
   ]
  },
  {
   "cell_type": "markdown",
   "metadata": {
    "colab_type": "text",
    "id": "3wrym729ZWre"
   },
   "source": [
    "### Implementing Early Stopping\n",
    "\n",
    "Early stopping involves having the training stop when the model has been trained enough.  \n",
    "\n",
    "Often training is slow in terms of time, and expensive in terms of compute time on big clusters or a cloud service.  So it is useful to be able to stop training as soon as reasonable.  And reasonable is usually when the metric like lose quits decreasing.  So the question is, how can we know when the loss quits decreasing?  \n",
    "\n",
    "We could run a bunch of trials and use a tool like TensorBoard to plot curves.  But it is tedious to write a model with 20 epochs, run it, see loss was decreasing, then repeat that with 40 epochs, etc.  Worse, if we change the model or it's parameters, like adjusting the dropout percentage, the number of epochs required to see when the loss stops decreasing might be different.\n",
    "\n",
    "So what we need is an automated way to detect when training has quit improving and terminate training.  And fortunately Keras has an early stopping feature that does just this!"
   ]
  },
  {
   "cell_type": "markdown",
   "metadata": {
    "colab_type": "text",
    "id": "_lKTkBVvN2dI"
   },
   "source": [
    "We start with the same model, optimizer, loss, and log clearing code as before."
   ]
  },
  {
   "cell_type": "code",
   "execution_count": 0,
   "metadata": {
    "colab": {},
    "colab_type": "code",
    "id": "D0FSUxUT3Cuf"
   },
   "outputs": [],
   "source": [
    "# Load the tensorboard extension\n",
    "% reload_ext tensorboard"
   ]
  },
  {
   "cell_type": "code",
   "execution_count": 0,
   "metadata": {
    "colab": {},
    "colab_type": "code",
    "id": "dGm6LMEL2--j"
   },
   "outputs": [],
   "source": [
    "# Clear any logs from previous runs\n",
    "!rm -rf ./logs/ "
   ]
  },
  {
   "cell_type": "code",
   "execution_count": 0,
   "metadata": {
    "colab": {},
    "colab_type": "code",
    "id": "62luPqB8NqaI"
   },
   "outputs": [],
   "source": [
    "model = tf.keras.models.Sequential()      # Create a new sequential model\n",
    "model.add(tf.keras.layers.Flatten(input_shape=(28,28)))    # keras processing layer - no neurons\n",
    "model.add(tf.keras.layers.Dense(128, activation='relu', name='dense-128-relu'))   # 128 neurons connected to pixels\n",
    "model.add(tf.keras.layers.Dense(10, activation='softmax', name='dense-10-softmax')) # determine probability of each of the 10 classes"
   ]
  },
  {
   "cell_type": "code",
   "execution_count": 0,
   "metadata": {
    "colab": {},
    "colab_type": "code",
    "id": "ROXcHFavNqaS"
   },
   "outputs": [],
   "source": [
    "model.compile(optimizer='adam',\n",
    "              loss='sparse_categorical_crossentropy',\n",
    "              metrics=['accuracy'])"
   ]
  },
  {
   "cell_type": "markdown",
   "metadata": {
    "colab_type": "text",
    "id": "F6TY_BVDOou_"
   },
   "source": [
    "We create a new EarlyStopping callback.\n",
    "\n",
    "And we set the **monitor** parameter to the parameter to monitor, which is **validation loss**. And the  **patience** parameter to the maximum number of epochs without improvement allowed.  And if the parameter does not improve within the patience number of epochs, the training will be terminated.\n",
    "\n",
    "This new callback gets added to the list of callbacks."
   ]
  },
  {
   "cell_type": "code",
   "execution_count": 0,
   "metadata": {
    "colab": {},
    "colab_type": "code",
    "id": "1o3tiyB_NyhV"
   },
   "outputs": [],
   "source": [
    "log_dir='logs/fit/' + datetime.datetime.now().strftime('%Y%m%d-%H%M%S')\n",
    "tensorboard_callback = tf.keras.callbacks.TensorBoard(log_dir=log_dir, histogram_freq=1)\n",
    "early_stopping_callback = tf.keras.callbacks.EarlyStopping(monitor='val_loss', patience=4)\n",
    "\n",
    "model.fit(x=train_images, \n",
    "          y=train_labels, \n",
    "          epochs=40, \n",
    "          validation_data=(test_images, test_labels), \n",
    "          callbacks=[tensorboard_callback, early_stopping_callback])\n"
   ]
  },
  {
   "cell_type": "code",
   "execution_count": 0,
   "metadata": {
    "colab": {},
    "colab_type": "code",
    "id": "vUIOxIxcQSRH"
   },
   "outputs": [],
   "source": [
    "#!kill 1234   # sometime TensorBoard does not show all data.  If it shows reusing previous instance use kill command listed\n",
    "%tensorboard --logdir logs/fit"
   ]
  },
  {
   "cell_type": "markdown",
   "metadata": {
    "colab_type": "text",
    "id": "AwGPItyphqXT"
   },
   "source": [
    "## Save Your Model\n",
    "\n",
    "Now that we have our model working well.  We can save it for reuse.\n",
    "\n",
    "By saving the model's structure and the associated trained weights we preserve our work.  Those weights are well over 101,000 values for which we had to work hard to get to the proper numbers!!\n"
   ]
  },
  {
   "cell_type": "code",
   "execution_count": 0,
   "metadata": {
    "colab": {},
    "colab_type": "code",
    "id": "0w5Rq8SsgWE6"
   },
   "outputs": [],
   "source": [
    "# We use the Python tempfile library to create files in a generated folder.  \n",
    "# If you want to used a defined path, replace this code with your own \n",
    "# path definitions. \n",
    "import tempfile\n",
    "import os\n",
    "\n",
    "# get the tempfile location for this Colab session\n",
    "MODEL_DIR = tempfile.gettempdir()\n",
    "version = 1   # NOTE: Adjust if you don't want to replace a version of your model\n",
    "export_path = os.path.join(MODEL_DIR, str(version))  # the final path includes the version\n",
    "print('Saving model to : {}\\n'.format(export_path))\n",
    "\n",
    "# if path already exists delete everything at the location\n",
    "if os.path.isdir(export_path):\n",
    "  print('\\nPreviously saved model found, deleting it\\n')\n",
    "  !rm -r {export_path}\n",
    "\n",
    "# Save the model  \n",
    "tf.saved_model.save(model, export_path)\n",
    "\n",
    "# Print save complete message\n",
    "print('Model saved')\n"
   ]
  },
  {
   "cell_type": "markdown",
   "metadata": {
    "colab_type": "text",
    "id": "8YbP9MjFLkRJ"
   },
   "source": [
    "\n",
    "\n",
    "# Deploying our Trained Model\n",
    "\n",
    "Once we are satisified with the model's performance we can deploy it so other programs can use it.  This is a complex subject since the deployment strategies depend on how our model will be used.\n",
    "\n",
    "In this script we will show a very basic way of deploying the model.  We will do just enough so we can make predictions with our trained model from Python.\n",
    "\n"
   ]
  },
  {
   "cell_type": "markdown",
   "metadata": {
    "colab_type": "text",
    "id": "BjXJXg2dZKlZ"
   },
   "source": [
    "## TensorFlow ModelServer\n",
    "\n",
    "We are going to use the Tensorflow ModelServer to serve our model.  This install may only work in Colab.  \n",
    "\n",
    "*The recommendation for general installation and usage of the server is to use a docker container.  This is documented in the repo, https://github.com/tensorflow/serving/blob/master/tensorflow_serving/g3doc/setup.md*"
   ]
  },
  {
   "cell_type": "markdown",
   "metadata": {
    "colab_type": "text",
    "id": "BTWb0-KjnHSP"
   },
   "source": [
    "## Add TensorFlow Serving as installable\n",
    "\n",
    "Before we can install the TensorFlow ModelServer we need to make it known to the APT installer so the installer know where to fetch the bits.\n",
    "\n",
    "We do this by adding a key in to the APT database refering to the tensorflow-serving files location."
   ]
  },
  {
   "cell_type": "code",
   "execution_count": 0,
   "metadata": {
    "colab": {},
    "colab_type": "code",
    "id": "yadLd4SqnwMT"
   },
   "outputs": [],
   "source": [
    "# add the key\n",
    "!echo 'deb http://storage.googleapis.com/tensorflow-serving-apt stable tensorflow-model-server tensorflow-model-server-universal' | tee /etc/apt/sources.list.d/tensorflow-serving.list && \\\n",
    "curl https://storage.googleapis.com/tensorflow-serving-apt/tensorflow-serving.release.pub.gpg | apt-key add -\n",
    "# update the database with the new key\n",
    "!apt update"
   ]
  },
  {
   "cell_type": "markdown",
   "metadata": {
    "colab_type": "text",
    "id": "W1ZVp_VOU7Wu"
   },
   "source": [
    "### Install TensorFlow ModelServer\n",
    "\n",
    "We use apt-get to fetch and install TensorFlow ModelServer"
   ]
  },
  {
   "cell_type": "code",
   "execution_count": 0,
   "metadata": {
    "colab": {},
    "colab_type": "code",
    "id": "ygwa9AgRloYy"
   },
   "outputs": [],
   "source": [
    "!apt-get install tensorflow-model-server"
   ]
  },
  {
   "cell_type": "markdown",
   "metadata": {
    "colab_type": "text",
    "id": "k5NrYdQeVm52"
   },
   "source": [
    "### Start TensorFlow ModelServer\n",
    "\n",
    "This is where we start TensorFlow ModelServer and load our model.  After it loads we can start making inference requests using REST.  There are some important parameters:\n",
    "\n",
    "* `rest_api_port`: The port that you'll use for REST requests.\n",
    "* `model_name`: You'll use this in the URL of the REST requests.  It can be anything.\n",
    "* `model_base_path`: This is the path to the directory where you've saved your model.\n",
    "\n",
    "We need to define these as Python variables and as shell environment variables.  This will make this information available in Python code and in \n",
    "the shell where we will start the TensorFlow ModelServer process."
   ]
  },
  {
   "cell_type": "code",
   "execution_count": 0,
   "metadata": {
    "colab": {},
    "colab_type": "code",
    "id": "aUgp3vUdU5GS"
   },
   "outputs": [],
   "source": [
    "# Define the environment variable where our saved model resides\n",
    "os.environ['MODEL_DIR'] = MODEL_DIR\n",
    "# Define the Python constant and environment variable to point to the port number used to access our model\n",
    "REST_PORT = '8501'\n",
    "os.environ['REST_PORT'] = REST_PORT\n",
    "# Define the Python constant and environment variable to point to the our model name.\n",
    "#  This is an abitrary name.\n",
    "MODEL_NAME = 'fashion_mnist'\n",
    "os.environ['MODEL_NAME'] = MODEL_NAME"
   ]
  },
  {
   "cell_type": "code",
   "execution_count": 0,
   "metadata": {
    "colab": {},
    "colab_type": "code",
    "id": "kJDhHNJVnaLN"
   },
   "outputs": [],
   "source": [
    "# Run the shell command to launch tensorflow_model_server.  Output status and error\n",
    "#  messages to the file server.log\n",
    "%%bash --bg \n",
    "nohup tensorflow_model_server \\\n",
    "  --rest_api_port=\"${REST_PORT}\" \\\n",
    "  --model_name=\"${MODEL_NAME}\" \\\n",
    "  --model_base_path=\"${MODEL_DIR}\" >server.log 2>&1\n"
   ]
  },
  {
   "cell_type": "code",
   "execution_count": 0,
   "metadata": {
    "colab": {},
    "colab_type": "code",
    "id": "IxbeiOCUUs2z"
   },
   "outputs": [],
   "source": [
    "# Display the tail (last few lines) of the server log which will show any errors\n",
    "!tail server.log"
   ]
  },
  {
   "cell_type": "markdown",
   "metadata": {
    "colab_type": "text",
    "id": "vwg1JKaGXWAg"
   },
   "source": [
    "### Function to display image with user defined title"
   ]
  },
  {
   "cell_type": "code",
   "execution_count": 0,
   "metadata": {
    "colab": {},
    "colab_type": "code",
    "id": "Luqm_Jyff9iR"
   },
   "outputs": [],
   "source": [
    "def show_image(index, title, show_colorbar=False):\n",
    "  plt.figure()\n",
    "  plt.title('\\n\\n{}'.format(title), fontdict={'size': 16})\n",
    "  plt.imshow(test_images[index].reshape(28,28), cmap='gray')  # data is grayscale, but displays in color without cmap='gray'\n",
    "  if (show_colorbar):\n",
    "    plt.colorbar()\n",
    "  plt.axis('off')\n",
    "  plt.show()\n",
    "  \n",
    "  \n"
   ]
  },
  {
   "cell_type": "markdown",
   "metadata": {
    "colab_type": "text",
    "id": "x-Cc6WAFf4eg"
   },
   "source": [
    "## Make a REST request to predict class of our example image\n",
    "\n",
    "\n"
   ]
  },
  {
   "cell_type": "code",
   "execution_count": 0,
   "metadata": {
    "colab": {},
    "colab_type": "code",
    "id": "ReGh9AElrE4_"
   },
   "outputs": [],
   "source": [
    "!pip install -q requests    # Install the requests library which makes HTTP requests to the TensorFlow server \n",
    "                            # using our trained our model \n",
    "import requests     # import requests "
   ]
  },
  {
   "cell_type": "code",
   "execution_count": 0,
   "metadata": {
    "colab": {},
    "colab_type": "code",
    "id": "3dJFAJ9LqXMk"
   },
   "outputs": [],
   "source": [
    "# Select a random image to classify\n",
    "import random\n",
    "image_index = random.randint(0,len(test_images)-1)\n"
   ]
  },
  {
   "cell_type": "code",
   "execution_count": 0,
   "metadata": {
    "colab": {},
    "colab_type": "code",
    "id": "pll06kNWsCBF"
   },
   "outputs": [],
   "source": [
    " # Import json library and create the json data structure to be passed in the request.\n",
    "import json\n",
    "\n",
    "# The data is assumed to be a list of images, a 4D tensor of the shape [*,28,28,1].  \n",
    "# Convert the single 3d to 4d\n",
    "check_images = np.reshape(test_images[image_index],(-1,28,28,1))\n",
    "\n",
    "# Construct json data passed to server.  \"instances\" will hold the image(s) we \n",
    "#   want the model to classify\n",
    "data = json.dumps({'signature_name': 'serving_default', 'instances': check_images.tolist()})  "
   ]
  },
  {
   "cell_type": "code",
   "execution_count": 0,
   "metadata": {
    "colab": {},
    "colab_type": "code",
    "id": "gelYGr-s2RXw"
   },
   "outputs": [],
   "source": [
    "# Create the request\n",
    "\n",
    "# HTTP request header\n",
    "headers = {'content-type': 'application/json'}\n",
    "\n",
    "# Build the url to the service using the constants we defined earlier, should be of the form:\n",
    "#      http://localhost:8501/v1/models/fashion_mnist:predict\n",
    "predict_service_url = 'http://localhost:' + REST_PORT + '/v1/models/' + MODEL_NAME + ':predict'\n",
    "\n",
    "# Make request to the service.  Pass the headers and data.  Wait for the server's reponse.\n",
    "json_response = requests.post(predict_service_url, data=data, headers=headers)\n",
    "\n",
    "# Parse the response.  For each images we pass we get a list of probabilities \n",
    "predictions = json.loads(json_response.text)['predictions']\n",
    "# predictions[0] is the 10 probabilites for our first and only image.\n",
    "# predictions[0] has values in the form [0.1, 0.05, ...., 0.6]\n",
    "\n",
    "# The numpy argmax function returns the index of the highest value.  This is \n",
    "# the highest probabilty class predicted by our model. \n",
    "predicted_class = np.argmax(predictions[0])\n",
    "\n",
    "# Display image, the actual class and the predicted class\n",
    "show_image(image_index, 'Model predicted class: {} (class {}). \\n Actually class: {} (class {})'.format(\n",
    "  class_names[predicted_class], predicted_class, class_names[test_labels[image_index]], test_labels[image_index]))"
   ]
  },
  {
   "cell_type": "code",
   "execution_count": null,
   "metadata": {},
   "outputs": [],
   "source": []
  }
 ],
 "metadata": {
  "accelerator": "GPU",
  "colab": {
   "collapsed_sections": [],
   "name": "House_price_regression.ipynb",
   "provenance": []
  },
  "kernelspec": {
   "display_name": "Python 3 (ipykernel)",
   "language": "python",
   "name": "python3"
  },
  "language_info": {
   "codemirror_mode": {
    "name": "ipython",
    "version": 3
   },
   "file_extension": ".py",
   "mimetype": "text/x-python",
   "name": "python",
   "nbconvert_exporter": "python",
   "pygments_lexer": "ipython3",
   "version": "3.9.13"
  }
 },
 "nbformat": 4,
 "nbformat_minor": 1
}
